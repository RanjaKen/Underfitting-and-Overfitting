{
 "cells": [
  {
   "cell_type": "markdown",
   "id": "1dcfa0a1",
   "metadata": {
    "papermill": {
     "duration": 0.007423,
     "end_time": "2024-09-19T07:20:40.755925",
     "exception": false,
     "start_time": "2024-09-19T07:20:40.748502",
     "status": "completed"
    },
    "tags": []
   },
   "source": [
    "**This notebook is an exercise in the [Introduction to Machine Learning](https://www.kaggle.com/learn/intro-to-machine-learning) course.  You can reference the tutorial at [this link](https://www.kaggle.com/dansbecker/underfitting-and-overfitting).**\n",
    "\n",
    "---\n"
   ]
  },
  {
   "cell_type": "markdown",
   "id": "f1e0a804",
   "metadata": {
    "papermill": {
     "duration": 0.004534,
     "end_time": "2024-09-19T07:20:40.765562",
     "exception": false,
     "start_time": "2024-09-19T07:20:40.761028",
     "status": "completed"
    },
    "tags": []
   },
   "source": [
    "## Recap\n",
    "You've built your first model, and now it's time to optimize the size of the tree to make better predictions. Run this cell to set up your coding environment where the previous step left off."
   ]
  },
  {
   "cell_type": "code",
   "execution_count": 1,
   "id": "c36d2c82",
   "metadata": {
    "execution": {
     "iopub.execute_input": "2024-09-19T07:20:40.776782Z",
     "iopub.status.busy": "2024-09-19T07:20:40.776286Z",
     "iopub.status.idle": "2024-09-19T07:20:43.171779Z",
     "shell.execute_reply": "2024-09-19T07:20:43.170389Z"
    },
    "papermill": {
     "duration": 2.412301,
     "end_time": "2024-09-19T07:20:43.182507",
     "exception": false,
     "start_time": "2024-09-19T07:20:40.770206",
     "status": "completed"
    },
    "tags": []
   },
   "outputs": [
    {
     "name": "stdout",
     "output_type": "stream",
     "text": [
      "Validation MAE: 29,653\n",
      "\n",
      "Setup complete\n"
     ]
    }
   ],
   "source": [
    "# Code you have previously used to load data\n",
    "import pandas as pd\n",
    "from sklearn.metrics import mean_absolute_error\n",
    "from sklearn.model_selection import train_test_split\n",
    "from sklearn.tree import DecisionTreeRegressor\n",
    "\n",
    "\n",
    "# Path of the file to read\n",
    "iowa_file_path = '../input/home-data-for-ml-course/train.csv'\n",
    "\n",
    "home_data = pd.read_csv(iowa_file_path)\n",
    "# Create target object and call it y\n",
    "y = home_data.SalePrice\n",
    "# Create X\n",
    "features = ['LotArea', 'YearBuilt', '1stFlrSF', '2ndFlrSF', 'FullBath', 'BedroomAbvGr', 'TotRmsAbvGrd']\n",
    "X = home_data[features]\n",
    "\n",
    "# Split into validation and training data\n",
    "train_X, val_X, train_y, val_y = train_test_split(X, y, random_state=1)\n",
    "\n",
    "# Specify Model\n",
    "iowa_model = DecisionTreeRegressor(random_state=1)\n",
    "# Fit Model\n",
    "iowa_model.fit(train_X, train_y)\n",
    "\n",
    "# Make validation predictions and calculate mean absolute error\n",
    "val_predictions = iowa_model.predict(val_X)\n",
    "val_mae = mean_absolute_error(val_predictions, val_y)\n",
    "print(\"Validation MAE: {:,.0f}\".format(val_mae))\n",
    "\n",
    "# Set up code checking\n",
    "from learntools.core import binder\n",
    "binder.bind(globals())\n",
    "from learntools.machine_learning.ex5 import *\n",
    "print(\"\\nSetup complete\")"
   ]
  },
  {
   "cell_type": "markdown",
   "id": "0c305fa8",
   "metadata": {
    "papermill": {
     "duration": 0.006091,
     "end_time": "2024-09-19T07:20:43.195275",
     "exception": false,
     "start_time": "2024-09-19T07:20:43.189184",
     "status": "completed"
    },
    "tags": []
   },
   "source": [
    "# Exercises\n",
    "You could write the function `get_mae` yourself. For now, we'll supply it. This is the same function you read about in the previous lesson. Just run the cell below."
   ]
  },
  {
   "cell_type": "code",
   "execution_count": 2,
   "id": "7aef9379",
   "metadata": {
    "execution": {
     "iopub.execute_input": "2024-09-19T07:20:43.209190Z",
     "iopub.status.busy": "2024-09-19T07:20:43.208702Z",
     "iopub.status.idle": "2024-09-19T07:20:43.216486Z",
     "shell.execute_reply": "2024-09-19T07:20:43.214931Z"
    },
    "papermill": {
     "duration": 0.01755,
     "end_time": "2024-09-19T07:20:43.219411",
     "exception": false,
     "start_time": "2024-09-19T07:20:43.201861",
     "status": "completed"
    },
    "tags": []
   },
   "outputs": [],
   "source": [
    "def get_mae(max_leaf_nodes, train_X, val_X, train_y, val_y):\n",
    "    model = DecisionTreeRegressor(max_leaf_nodes=max_leaf_nodes, random_state=0)\n",
    "    model.fit(train_X, train_y)\n",
    "    preds_val = model.predict(val_X)\n",
    "    mae = mean_absolute_error(val_y, preds_val)\n",
    "    return(mae)"
   ]
  },
  {
   "cell_type": "markdown",
   "id": "a7c04198",
   "metadata": {
    "papermill": {
     "duration": 0.004522,
     "end_time": "2024-09-19T07:20:43.230316",
     "exception": false,
     "start_time": "2024-09-19T07:20:43.225794",
     "status": "completed"
    },
    "tags": []
   },
   "source": [
    "## Step 1: Compare Different Tree Sizes\n",
    "Write a loop that tries the following values for *max_leaf_nodes* from a set of possible values.\n",
    "\n",
    "Call the *get_mae* function on each value of max_leaf_nodes. Store the output in some way that allows you to select the value of `max_leaf_nodes` that gives the most accurate model on your data."
   ]
  },
  {
   "cell_type": "code",
   "execution_count": 3,
   "id": "9cfa3bd7",
   "metadata": {
    "execution": {
     "iopub.execute_input": "2024-09-19T07:20:43.246393Z",
     "iopub.status.busy": "2024-09-19T07:20:43.244959Z",
     "iopub.status.idle": "2024-09-19T07:20:43.321352Z",
     "shell.execute_reply": "2024-09-19T07:20:43.319830Z"
    },
    "papermill": {
     "duration": 0.088533,
     "end_time": "2024-09-19T07:20:43.324730",
     "exception": false,
     "start_time": "2024-09-19T07:20:43.236197",
     "status": "completed"
    },
    "tags": []
   },
   "outputs": [
    {
     "name": "stdout",
     "output_type": "stream",
     "text": [
      "MLN : 5 \n",
      "MAE : 35044 \n",
      "\n",
      "MLN : 25 \n",
      "MAE : 29016 \n",
      "\n",
      "MLN : 50 \n",
      "MAE : 27405 \n",
      "\n",
      "MLN : 100 \n",
      "MAE : 27282 \n",
      "\n",
      "MLN : 250 \n",
      "MAE : 27893 \n",
      "\n",
      "MLN : 500 \n",
      "MAE : 29454 \n",
      "\n"
     ]
    },
    {
     "data": {
      "application/javascript": [
       "parent.postMessage({\"jupyterEvent\": \"custom.exercise_interaction\", \"data\": {\"outcomeType\": 1, \"valueTowardsCompletion\": 0.5, \"interactionType\": 1, \"questionType\": 1, \"questionId\": \"1_BestTreeSize\", \"learnToolsVersion\": \"0.3.4\", \"failureMessage\": \"\", \"exceptionClass\": \"\", \"trace\": \"\"}}, \"*\")"
      ],
      "text/plain": [
       "<IPython.core.display.Javascript object>"
      ]
     },
     "metadata": {},
     "output_type": "display_data"
    },
    {
     "data": {
      "text/markdown": [
       "<span style=\"color:#33cc33\">Correct</span>"
      ],
      "text/plain": [
       "Correct"
      ]
     },
     "metadata": {},
     "output_type": "display_data"
    }
   ],
   "source": [
    "candidate_max_leaf_nodes = [5, 25, 50, 100, 250, 500]\n",
    "# Write loop to find the ideal tree size from candidate_max_leaf_nodes\n",
    "for max_leaf_nodes in candidate_max_leaf_nodes:\n",
    "    my_mae = get_mae(max_leaf_nodes,train_X, val_X, train_y, val_y)\n",
    "    print(\"MLN : %d \\nMAE : %d \\n\" %(max_leaf_nodes, my_mae))\n",
    "\n",
    "# Store the best value of max_leaf_nodes (it will be either 5, 25, 50, 100, 250 or 500)\n",
    "best_tree_size = 100\n",
    "\n",
    "# Check your answer\n",
    "step_1.check()"
   ]
  },
  {
   "cell_type": "code",
   "execution_count": 4,
   "id": "2ec4d4d9",
   "metadata": {
    "execution": {
     "iopub.execute_input": "2024-09-19T07:20:43.343415Z",
     "iopub.status.busy": "2024-09-19T07:20:43.342917Z",
     "iopub.status.idle": "2024-09-19T07:20:43.348828Z",
     "shell.execute_reply": "2024-09-19T07:20:43.347261Z"
    },
    "papermill": {
     "duration": 0.019736,
     "end_time": "2024-09-19T07:20:43.352567",
     "exception": false,
     "start_time": "2024-09-19T07:20:43.332831",
     "status": "completed"
    },
    "tags": []
   },
   "outputs": [],
   "source": [
    "# The lines below will show you a hint or the solution.\n",
    "# step_1.hint() \n",
    "# step_1.solution()"
   ]
  },
  {
   "cell_type": "markdown",
   "id": "6b909303",
   "metadata": {
    "papermill": {
     "duration": 0.006463,
     "end_time": "2024-09-19T07:20:43.365088",
     "exception": false,
     "start_time": "2024-09-19T07:20:43.358625",
     "status": "completed"
    },
    "tags": []
   },
   "source": [
    "## Step 2: Fit Model Using All Data\n",
    "You know the best tree size. If you were going to deploy this model in practice, you would make it even more accurate by using all of the data and keeping that tree size.  That is, you don't need to hold out the validation data now that you've made all your modeling decisions."
   ]
  },
  {
   "cell_type": "code",
   "execution_count": 5,
   "id": "9ea47880",
   "metadata": {
    "execution": {
     "iopub.execute_input": "2024-09-19T07:20:43.380596Z",
     "iopub.status.busy": "2024-09-19T07:20:43.379627Z",
     "iopub.status.idle": "2024-09-19T07:20:43.410661Z",
     "shell.execute_reply": "2024-09-19T07:20:43.409191Z"
    },
    "papermill": {
     "duration": 0.043159,
     "end_time": "2024-09-19T07:20:43.413955",
     "exception": false,
     "start_time": "2024-09-19T07:20:43.370796",
     "status": "completed"
    },
    "tags": []
   },
   "outputs": [
    {
     "data": {
      "application/javascript": [
       "parent.postMessage({\"jupyterEvent\": \"custom.exercise_interaction\", \"data\": {\"outcomeType\": 1, \"valueTowardsCompletion\": 0.5, \"interactionType\": 1, \"questionType\": 2, \"questionId\": \"2_FitModelWithAllData\", \"learnToolsVersion\": \"0.3.4\", \"failureMessage\": \"\", \"exceptionClass\": \"\", \"trace\": \"\"}}, \"*\")"
      ],
      "text/plain": [
       "<IPython.core.display.Javascript object>"
      ]
     },
     "metadata": {},
     "output_type": "display_data"
    },
    {
     "data": {
      "text/markdown": [
       "<span style=\"color:#33cc33\">Correct</span>"
      ],
      "text/plain": [
       "Correct"
      ]
     },
     "metadata": {},
     "output_type": "display_data"
    }
   ],
   "source": [
    "# Fill in argument to make optimal size and uncomment\n",
    "final_model = DecisionTreeRegressor(max_leaf_nodes = 100,random_state = 1)\n",
    "\n",
    "# fit the final model and uncomment the next two lines\n",
    "final_model.fit(X, y)\n",
    "\n",
    "# Check your answer\n",
    "step_2.check()"
   ]
  },
  {
   "cell_type": "code",
   "execution_count": 6,
   "id": "505394ed",
   "metadata": {
    "execution": {
     "iopub.execute_input": "2024-09-19T07:20:43.428552Z",
     "iopub.status.busy": "2024-09-19T07:20:43.428099Z",
     "iopub.status.idle": "2024-09-19T07:20:43.433218Z",
     "shell.execute_reply": "2024-09-19T07:20:43.431920Z"
    },
    "papermill": {
     "duration": 0.014781,
     "end_time": "2024-09-19T07:20:43.435701",
     "exception": false,
     "start_time": "2024-09-19T07:20:43.420920",
     "status": "completed"
    },
    "tags": []
   },
   "outputs": [],
   "source": [
    "# step_2.hint()\n",
    "# step_2.solution()"
   ]
  },
  {
   "cell_type": "markdown",
   "id": "c88a54db",
   "metadata": {
    "papermill": {
     "duration": 0.005701,
     "end_time": "2024-09-19T07:20:43.447164",
     "exception": false,
     "start_time": "2024-09-19T07:20:43.441463",
     "status": "completed"
    },
    "tags": []
   },
   "source": [
    "You've tuned this model and improved your results. But we are still using Decision Tree models, which are not very sophisticated by modern machine learning standards. In the next step you will learn to use Random Forests to improve your models even more.\n",
    "\n",
    "# Keep Going\n",
    "\n",
    "You are ready for **[Random Forests](https://www.kaggle.com/dansbecker/random-forests).**\n"
   ]
  },
  {
   "cell_type": "markdown",
   "id": "0dd9c7cb",
   "metadata": {
    "papermill": {
     "duration": 0.005356,
     "end_time": "2024-09-19T07:20:43.458405",
     "exception": false,
     "start_time": "2024-09-19T07:20:43.453049",
     "status": "completed"
    },
    "tags": []
   },
   "source": [
    "---\n",
    "\n",
    "\n",
    "\n",
    "\n",
    "*Have questions or comments? Visit the [course discussion forum](https://www.kaggle.com/learn/intro-to-machine-learning/discussion) to chat with other learners.*"
   ]
  }
 ],
 "metadata": {
  "kaggle": {
   "accelerator": "none",
   "dataSources": [
    {
     "databundleVersionId": 111096,
     "sourceId": 10211,
     "sourceType": "competition"
    },
    {
     "datasetId": 11167,
     "sourceId": 15520,
     "sourceType": "datasetVersion"
    },
    {
     "datasetId": 2709,
     "sourceId": 38454,
     "sourceType": "datasetVersion"
    }
   ],
   "isGpuEnabled": false,
   "isInternetEnabled": false,
   "language": "python",
   "sourceType": "notebook"
  },
  "kernelspec": {
   "display_name": "Python 3",
   "language": "python",
   "name": "python3"
  },
  "language_info": {
   "codemirror_mode": {
    "name": "ipython",
    "version": 3
   },
   "file_extension": ".py",
   "mimetype": "text/x-python",
   "name": "python",
   "nbconvert_exporter": "python",
   "pygments_lexer": "ipython3",
   "version": "3.10.14"
  },
  "papermill": {
   "default_parameters": {},
   "duration": 6.58373,
   "end_time": "2024-09-19T07:20:44.187511",
   "environment_variables": {},
   "exception": null,
   "input_path": "__notebook__.ipynb",
   "output_path": "__notebook__.ipynb",
   "parameters": {},
   "start_time": "2024-09-19T07:20:37.603781",
   "version": "2.6.0"
  }
 },
 "nbformat": 4,
 "nbformat_minor": 5
}
